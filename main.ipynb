{
 "cells": [
  {
   "cell_type": "code",
   "execution_count": 1,
   "metadata": {},
   "outputs": [],
   "source": [
    "import pandas as pd"
   ]
  },
  {
   "cell_type": "code",
   "execution_count": 2,
   "metadata": {},
   "outputs": [],
   "source": [
    "df = pd.read_csv('news_dataset.csv')"
   ]
  },
  {
   "cell_type": "code",
   "execution_count": 3,
   "metadata": {},
   "outputs": [
    {
     "data": {
      "text/plain": [
       "economics        9308\n",
       "tech             9293\n",
       "business         9258\n",
       "finance          9167\n",
       "beauty           9130\n",
       "entertainment    9028\n",
       "food             8876\n",
       "sports           8876\n",
       "politics         8719\n",
       "science          8582\n",
       "travel           8107\n",
       "world            6211\n",
       "health           5557\n",
       "environment      5121\n",
       "Name: label, dtype: int64"
      ]
     },
     "execution_count": 3,
     "metadata": {},
     "output_type": "execute_result"
    }
   ],
   "source": [
    "df.label.value_counts()"
   ]
  },
  {
   "cell_type": "code",
   "execution_count": 4,
   "metadata": {},
   "outputs": [
    {
     "data": {
      "text/html": [
       "<div>\n",
       "<style scoped>\n",
       "    .dataframe tbody tr th:only-of-type {\n",
       "        vertical-align: middle;\n",
       "    }\n",
       "\n",
       "    .dataframe tbody tr th {\n",
       "        vertical-align: top;\n",
       "    }\n",
       "\n",
       "    .dataframe thead th {\n",
       "        text-align: right;\n",
       "    }\n",
       "</style>\n",
       "<table border=\"1\" class=\"dataframe\">\n",
       "  <thead>\n",
       "    <tr style=\"text-align: right;\">\n",
       "      <th></th>\n",
       "      <th>title</th>\n",
       "      <th>excerpt</th>\n",
       "      <th>summary</th>\n",
       "      <th>label</th>\n",
       "    </tr>\n",
       "  </thead>\n",
       "  <tbody>\n",
       "    <tr>\n",
       "      <th>0</th>\n",
       "      <td>Veteran Broadcaster Dave Allen Joins Par Mar S...</td>\n",
       "      <td>Longtime Tri-State broadcaster and media perso...</td>\n",
       "      <td>There were 611 press releases posted in the la...</td>\n",
       "      <td>economics</td>\n",
       "    </tr>\n",
       "    <tr>\n",
       "      <th>1</th>\n",
       "      <td>High-Performance Computing Center Stuttgart Ce...</td>\n",
       "      <td>STUTTGART, Germany, Oct. 6, 2021 -- Founded in...</td>\n",
       "      <td>STUTTGART, Germany, Oct. 6, 2021 — Founded in ...</td>\n",
       "      <td>environment</td>\n",
       "    </tr>\n",
       "    <tr>\n",
       "      <th>2</th>\n",
       "      <td>Hopes new tech could finally find MH370</td>\n",
       "      <td>New technology could finally solve the mystery...</td>\n",
       "      <td>It's the world's biggest aviation mystery but ...</td>\n",
       "      <td>travel</td>\n",
       "    </tr>\n",
       "    <tr>\n",
       "      <th>3</th>\n",
       "      <td>Married At First Sight's Alexis Economou looks...</td>\n",
       "      <td>The MAFS UK star showed off her toned figure i...</td>\n",
       "      <td>Published: 07:14 EDT, 9 October 2021 | Updated...</td>\n",
       "      <td>entertainment</td>\n",
       "    </tr>\n",
       "    <tr>\n",
       "      <th>4</th>\n",
       "      <td>SyncThink's Eye-Tracking VR Receives Second FD...</td>\n",
       "      <td>Eye-Sync uses eye-tracking to evaluate brain f...</td>\n",
       "      <td>Eye-Sync -- a virtual reality system from neur...</td>\n",
       "      <td>economics</td>\n",
       "    </tr>\n",
       "  </tbody>\n",
       "</table>\n",
       "</div>"
      ],
      "text/plain": [
       "                                               title  \\\n",
       "0  Veteran Broadcaster Dave Allen Joins Par Mar S...   \n",
       "1  High-Performance Computing Center Stuttgart Ce...   \n",
       "2            Hopes new tech could finally find MH370   \n",
       "3  Married At First Sight's Alexis Economou looks...   \n",
       "4  SyncThink's Eye-Tracking VR Receives Second FD...   \n",
       "\n",
       "                                             excerpt  \\\n",
       "0  Longtime Tri-State broadcaster and media perso...   \n",
       "1  STUTTGART, Germany, Oct. 6, 2021 -- Founded in...   \n",
       "2  New technology could finally solve the mystery...   \n",
       "3  The MAFS UK star showed off her toned figure i...   \n",
       "4  Eye-Sync uses eye-tracking to evaluate brain f...   \n",
       "\n",
       "                                             summary          label  \n",
       "0  There were 611 press releases posted in the la...      economics  \n",
       "1  STUTTGART, Germany, Oct. 6, 2021 — Founded in ...    environment  \n",
       "2  It's the world's biggest aviation mystery but ...         travel  \n",
       "3  Published: 07:14 EDT, 9 October 2021 | Updated...  entertainment  \n",
       "4  Eye-Sync -- a virtual reality system from neur...      economics  "
      ]
     },
     "execution_count": 4,
     "metadata": {},
     "output_type": "execute_result"
    }
   ],
   "source": [
    "df.head()"
   ]
  }
 ],
 "metadata": {
  "interpreter": {
   "hash": "0f9426b460f494deb5fc1ce4e2d07b9f1f902bcb927e6e2087de4baa3a2d5345"
  },
  "kernelspec": {
   "display_name": "Python 3.8.5 64-bit ('base': conda)",
   "name": "python3"
  },
  "language_info": {
   "codemirror_mode": {
    "name": "ipython",
    "version": 3
   },
   "file_extension": ".py",
   "mimetype": "text/x-python",
   "name": "python",
   "nbconvert_exporter": "python",
   "pygments_lexer": "ipython3",
   "version": "3.8.5"
  },
  "orig_nbformat": 4
 },
 "nbformat": 4,
 "nbformat_minor": 2
}
