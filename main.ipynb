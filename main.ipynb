{
 "cells": [
  {
   "cell_type": "code",
   "execution_count": 1,
   "metadata": {},
   "outputs": [],
   "source": [
    "import pandas as pd\n",
    "import nltk\n",
    "from nltk.corpus import stopwords"
   ]
  },
  {
   "cell_type": "code",
   "execution_count": 2,
   "metadata": {},
   "outputs": [
    {
     "data": {
      "text/plain": [
       "(115233, 4)"
      ]
     },
     "execution_count": 2,
     "metadata": {},
     "output_type": "execute_result"
    }
   ],
   "source": [
    "df = pd.read_csv('news_dataset.csv')\n",
    "df.shape"
   ]
  },
  {
   "cell_type": "code",
   "execution_count": 3,
   "metadata": {},
   "outputs": [
    {
     "data": {
      "text/plain": [
       "economics        9308\n",
       "tech             9293\n",
       "business         9258\n",
       "finance          9167\n",
       "beauty           9130\n",
       "entertainment    9028\n",
       "food             8876\n",
       "sports           8876\n",
       "politics         8719\n",
       "science          8582\n",
       "travel           8107\n",
       "world            6211\n",
       "health           5557\n",
       "environment      5121\n",
       "Name: label, dtype: int64"
      ]
     },
     "execution_count": 3,
     "metadata": {},
     "output_type": "execute_result"
    }
   ],
   "source": [
    "df.label.value_counts()"
   ]
  },
  {
   "cell_type": "code",
   "execution_count": 7,
   "metadata": {},
   "outputs": [
    {
     "name": "stdout",
     "output_type": "stream",
     "text": [
      "2361\n",
      "[\"ി'\", '´.', ',\\'\"…', '###', ',-', '\":\"\\\\/\\\\/', ';-)', \"***':\", ')[', '€.', ',†,', '}$', '/€', \"，'\", ')\\u2060', 'ۗ', '\\u200c,', '💄', '💗', '‘£', '👻', '.¨', '%…\"', \"!.'\", '….', '@.', '={\"', '}},\"', 'ٰ', '️', ')—', '🖥️', '∂', '👏🏻👏🏻👏🏻👏🏻👏🏻', '💙🙏🏼', '€(', '💪#', '(€)', '\\u200b\\u200b-', ',(', 'ി', '.\"—', '）、', '😘', \"—'\", '\"£', \"…,''\", '\"‘', '.–', '–$', '>@', '£/€', 'ൊ', \"!—'\", \"˜'*°•.\", '®(', '?!!!!', '®),', '👊#', '.\\x92', '!),\"', 'ैं.', '🍯', '!\"\"', '📞', '),\"', \"']/\", '°,', '{{#', '🇮🇹', \"\\\\'\", ']?\"', ']\".', '\":\"//', \"'..\", '❤️🏴\\U000e0067\\U000e0062\\U000e0077\\U000e006c\\U000e0073\\U000e007f@', '🇮🇹🇮🇹🇮🇹', '🙌(', '💡📸', '+}(', ':™', '🔴#', '(!!!!)', '().', '----------', '🇺🇦', '💌', '🇹🇷', \":@?'\", '。', '.)-', '...............................................................................', '🤣🤣🤣🤣', '✅', '@?=:?', '۔@', '…….', '.(', '➡', \"+'\\\\\\\\'+\"]\n"
     ]
    }
   ],
   "source": [
    "def check_for_noise(df):\n",
    "    # create a copy\n",
    "    df = df.copy()\n",
    "    df = df.fillna(value='', axis=0)\n",
    "    # create a set for adding all the useless symbols(noise) \n",
    "    symbol = set()\n",
    "    # parse through the data to extract all the unnecessary symbols.\n",
    "    for col in list(df.columns):\n",
    "        ### The regular expression states to find all the letters other than words and spaces.\n",
    "        noise = df[col].str.findall(r'([^\\w\\s\\d]+)')\n",
    "        for val in noise:\n",
    "            for sy in val:\n",
    "                symbol.add(sy)\n",
    "    # convert back to list.\n",
    "    symbol = list(symbol)\n",
    "    return symbol\n",
    "\n",
    "\n",
    "noises = check_for_noise(df)\n",
    "print(len(noises))\n",
    "print(noises[:100])\n"
   ]
  },
  {
   "cell_type": "code",
   "execution_count": 8,
   "metadata": {},
   "outputs": [],
   "source": [
    "def preprocess_inputs(df):\n",
    "    \n",
    "    # Make a copy of dataset for preprocessing.\n",
    "    df = df.copy()\n",
    "\n",
    "    # fill all empty values with blank.\n",
    "    df = df.fillna(value='', axis=0)\n",
    "\n",
    "    # clean the data from useless noises\n",
    "    df['excerpt'] = df['excerpt'].str.replace(r'([^A-Za-z\\s]+)', ' ')\n",
    "    df['summary'] = df['summary'].str.replace(r'([^A-Za-z\\s]+)', ' ')\n",
    "    df['title'] = df['title'].str.replace(r'([^A-Za-z\\s]+)', ' ')\n",
    "\n",
    "    # remove stopwords from the columns\n",
    "    f = lambda x: ' '.join([item.lower() for item in x.split(' ') if len(item) >1 and item.lower() not in stop_words])\n",
    "    stop_words = set(stopwords.words('english'))\n",
    "    df['title'] =   df['title'].apply(f)\n",
    "    df['excerpt'] = df['excerpt'].apply(f)\n",
    "    df['summary'] = df['summary'].apply(f)\n",
    "    \n",
    "    return df\n"
   ]
  },
  {
   "cell_type": "code",
   "execution_count": 9,
   "metadata": {},
   "outputs": [],
   "source": [
    "X = preprocess_inputs(df)"
   ]
  },
  {
   "cell_type": "code",
   "execution_count": 13,
   "metadata": {},
   "outputs": [
    {
     "data": {
      "text/html": [
       "<div>\n",
       "<style scoped>\n",
       "    .dataframe tbody tr th:only-of-type {\n",
       "        vertical-align: middle;\n",
       "    }\n",
       "\n",
       "    .dataframe tbody tr th {\n",
       "        vertical-align: top;\n",
       "    }\n",
       "\n",
       "    .dataframe thead th {\n",
       "        text-align: right;\n",
       "    }\n",
       "</style>\n",
       "<table border=\"1\" class=\"dataframe\">\n",
       "  <thead>\n",
       "    <tr style=\"text-align: right;\">\n",
       "      <th></th>\n",
       "      <th>title</th>\n",
       "      <th>excerpt</th>\n",
       "      <th>summary</th>\n",
       "      <th>label</th>\n",
       "    </tr>\n",
       "  </thead>\n",
       "  <tbody>\n",
       "    <tr>\n",
       "      <th>0</th>\n",
       "      <td>veteran broadcaster dave allen joins par mar s...</td>\n",
       "      <td>longtime tri state broadcaster media personali...</td>\n",
       "      <td>press releases posted last hours last days mar...</td>\n",
       "      <td>economics</td>\n",
       "    </tr>\n",
       "    <tr>\n",
       "      <th>1</th>\n",
       "      <td>high performance computing center stuttgart ce...</td>\n",
       "      <td>stuttgart germany oct founded germany first na...</td>\n",
       "      <td>stuttgart germany oct founded germany first na...</td>\n",
       "      <td>environment</td>\n",
       "    </tr>\n",
       "    <tr>\n",
       "      <th>2</th>\n",
       "      <td>hopes new tech could finally find mh</td>\n",
       "      <td>new technology could finally solve mystery mis...</td>\n",
       "      <td>world biggest aviation mystery experts hope te...</td>\n",
       "      <td>travel</td>\n",
       "    </tr>\n",
       "    <tr>\n",
       "      <th>3</th>\n",
       "      <td>married first sight alexis economou looks cosy...</td>\n",
       "      <td>mafs uk star showed toned figure casual black ...</td>\n",
       "      <td>published edt october updated edt october anno...</td>\n",
       "      <td>entertainment</td>\n",
       "    </tr>\n",
       "    <tr>\n",
       "      <th>4</th>\n",
       "      <td>syncthink eye tracking vr receives second fda ...</td>\n",
       "      <td>eye sync uses eye tracking evaluate brain func...</td>\n",
       "      <td>eye sync virtual reality system neurotechnolog...</td>\n",
       "      <td>economics</td>\n",
       "    </tr>\n",
       "  </tbody>\n",
       "</table>\n",
       "</div>"
      ],
      "text/plain": [
       "                                               title  \\\n",
       "0  veteran broadcaster dave allen joins par mar s...   \n",
       "1  high performance computing center stuttgart ce...   \n",
       "2               hopes new tech could finally find mh   \n",
       "3  married first sight alexis economou looks cosy...   \n",
       "4  syncthink eye tracking vr receives second fda ...   \n",
       "\n",
       "                                             excerpt  \\\n",
       "0  longtime tri state broadcaster media personali...   \n",
       "1  stuttgart germany oct founded germany first na...   \n",
       "2  new technology could finally solve mystery mis...   \n",
       "3  mafs uk star showed toned figure casual black ...   \n",
       "4  eye sync uses eye tracking evaluate brain func...   \n",
       "\n",
       "                                             summary          label  \n",
       "0  press releases posted last hours last days mar...      economics  \n",
       "1  stuttgart germany oct founded germany first na...    environment  \n",
       "2  world biggest aviation mystery experts hope te...         travel  \n",
       "3  published edt october updated edt october anno...  entertainment  \n",
       "4  eye sync virtual reality system neurotechnolog...      economics  "
      ]
     },
     "execution_count": 13,
     "metadata": {},
     "output_type": "execute_result"
    }
   ],
   "source": [
    "X.head()"
   ]
  }
 ],
 "metadata": {
  "interpreter": {
   "hash": "0f9426b460f494deb5fc1ce4e2d07b9f1f902bcb927e6e2087de4baa3a2d5345"
  },
  "kernelspec": {
   "display_name": "Python 3.8.5 64-bit ('base': conda)",
   "name": "python3"
  },
  "language_info": {
   "codemirror_mode": {
    "name": "ipython",
    "version": 3
   },
   "file_extension": ".py",
   "mimetype": "text/x-python",
   "name": "python",
   "nbconvert_exporter": "python",
   "pygments_lexer": "ipython3",
   "version": "3.8.5"
  },
  "orig_nbformat": 4
 },
 "nbformat": 4,
 "nbformat_minor": 2
}
